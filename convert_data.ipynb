{
 "cells": [
  {
   "cell_type": "code",
   "execution_count": 2,
   "metadata": {
    "collapsed": true
   },
   "outputs": [],
   "source": [
    "import pandas as pd"
   ]
  },
  {
   "cell_type": "code",
   "execution_count": 3,
   "outputs": [
    {
     "data": {
      "text/plain": "     User ID  Gender  Age  EstimatedSalary  Purchased\n0   15624510    Male   19            19000          0\n1   15810944    Male   35            20000          0\n2   15668575  Female   26            43000          0\n3   15603246  Female   27            57000          0\n4   15804002    Male   19            76000          0\n5   15728773    Male   27            58000          0\n6   15598044  Female   27            84000          0\n7   15694829  Female   32           150000          1\n8   15600575    Male   25            33000          0\n9   15727311  Female   35            65000          0\n10  15570769  Female   26            80000          0\n11  15606274  Female   26            52000          0\n12  15746139    Male   20            86000          0\n13  15704987    Male   32            18000          0\n14  15628972    Male   18            82000          0\n15  15697686    Male   29            80000          0\n16  15733883    Male   47            25000          1\n17  15617482    Male   45            26000          1\n18  15704583    Male   46            28000          1\n19  15621083  Female   48            29000          1",
      "text/html": "<div>\n<style scoped>\n    .dataframe tbody tr th:only-of-type {\n        vertical-align: middle;\n    }\n\n    .dataframe tbody tr th {\n        vertical-align: top;\n    }\n\n    .dataframe thead th {\n        text-align: right;\n    }\n</style>\n<table border=\"1\" class=\"dataframe\">\n  <thead>\n    <tr style=\"text-align: right;\">\n      <th></th>\n      <th>User ID</th>\n      <th>Gender</th>\n      <th>Age</th>\n      <th>EstimatedSalary</th>\n      <th>Purchased</th>\n    </tr>\n  </thead>\n  <tbody>\n    <tr>\n      <th>0</th>\n      <td>15624510</td>\n      <td>Male</td>\n      <td>19</td>\n      <td>19000</td>\n      <td>0</td>\n    </tr>\n    <tr>\n      <th>1</th>\n      <td>15810944</td>\n      <td>Male</td>\n      <td>35</td>\n      <td>20000</td>\n      <td>0</td>\n    </tr>\n    <tr>\n      <th>2</th>\n      <td>15668575</td>\n      <td>Female</td>\n      <td>26</td>\n      <td>43000</td>\n      <td>0</td>\n    </tr>\n    <tr>\n      <th>3</th>\n      <td>15603246</td>\n      <td>Female</td>\n      <td>27</td>\n      <td>57000</td>\n      <td>0</td>\n    </tr>\n    <tr>\n      <th>4</th>\n      <td>15804002</td>\n      <td>Male</td>\n      <td>19</td>\n      <td>76000</td>\n      <td>0</td>\n    </tr>\n    <tr>\n      <th>5</th>\n      <td>15728773</td>\n      <td>Male</td>\n      <td>27</td>\n      <td>58000</td>\n      <td>0</td>\n    </tr>\n    <tr>\n      <th>6</th>\n      <td>15598044</td>\n      <td>Female</td>\n      <td>27</td>\n      <td>84000</td>\n      <td>0</td>\n    </tr>\n    <tr>\n      <th>7</th>\n      <td>15694829</td>\n      <td>Female</td>\n      <td>32</td>\n      <td>150000</td>\n      <td>1</td>\n    </tr>\n    <tr>\n      <th>8</th>\n      <td>15600575</td>\n      <td>Male</td>\n      <td>25</td>\n      <td>33000</td>\n      <td>0</td>\n    </tr>\n    <tr>\n      <th>9</th>\n      <td>15727311</td>\n      <td>Female</td>\n      <td>35</td>\n      <td>65000</td>\n      <td>0</td>\n    </tr>\n    <tr>\n      <th>10</th>\n      <td>15570769</td>\n      <td>Female</td>\n      <td>26</td>\n      <td>80000</td>\n      <td>0</td>\n    </tr>\n    <tr>\n      <th>11</th>\n      <td>15606274</td>\n      <td>Female</td>\n      <td>26</td>\n      <td>52000</td>\n      <td>0</td>\n    </tr>\n    <tr>\n      <th>12</th>\n      <td>15746139</td>\n      <td>Male</td>\n      <td>20</td>\n      <td>86000</td>\n      <td>0</td>\n    </tr>\n    <tr>\n      <th>13</th>\n      <td>15704987</td>\n      <td>Male</td>\n      <td>32</td>\n      <td>18000</td>\n      <td>0</td>\n    </tr>\n    <tr>\n      <th>14</th>\n      <td>15628972</td>\n      <td>Male</td>\n      <td>18</td>\n      <td>82000</td>\n      <td>0</td>\n    </tr>\n    <tr>\n      <th>15</th>\n      <td>15697686</td>\n      <td>Male</td>\n      <td>29</td>\n      <td>80000</td>\n      <td>0</td>\n    </tr>\n    <tr>\n      <th>16</th>\n      <td>15733883</td>\n      <td>Male</td>\n      <td>47</td>\n      <td>25000</td>\n      <td>1</td>\n    </tr>\n    <tr>\n      <th>17</th>\n      <td>15617482</td>\n      <td>Male</td>\n      <td>45</td>\n      <td>26000</td>\n      <td>1</td>\n    </tr>\n    <tr>\n      <th>18</th>\n      <td>15704583</td>\n      <td>Male</td>\n      <td>46</td>\n      <td>28000</td>\n      <td>1</td>\n    </tr>\n    <tr>\n      <th>19</th>\n      <td>15621083</td>\n      <td>Female</td>\n      <td>48</td>\n      <td>29000</td>\n      <td>1</td>\n    </tr>\n  </tbody>\n</table>\n</div>"
     },
     "execution_count": 3,
     "metadata": {},
     "output_type": "execute_result"
    }
   ],
   "source": [
    "p1 = pd.read_csv('dataset/Social_Network_Ads.csv')\n",
    "p1.head(20)"
   ],
   "metadata": {
    "collapsed": false,
    "pycharm": {
     "name": "#%%\n"
    }
   }
  },
  {
   "cell_type": "code",
   "execution_count": 6,
   "outputs": [
    {
     "data": {
      "text/plain": "      User ID  Gender  Age  EstimatedSalary  Purchased\n348  15579212    Male   39            77000          0\n257  15794493    Male   40            57000          0\n297  15705298  Female   43           112000          1\n38   15671766  Female   26            72000          0\n87   15631912  Female   28            85000          0\n268  15746203  Female   47           144000          1\n376  15596984  Female   46            74000          0\n169  15579781  Female   29            47000          0\n64   15605000  Female   59            83000          0\n91   15636428  Female   30           116000          0\n355  15606472    Male   60            34000          1\n158  15762605    Male   26            30000          0\n185  15814816    Male   31            66000          0\n247  15775590  Female   57           122000          1\n102  15584545  Female   32            86000          0\n14   15628972    Male   18            82000          0\n394  15757632  Female   39            59000          0\n177  15594577    Male   25            22000          0\n329  15639576  Female   47           107000          1\n204  15660866  Female   58           101000          1",
      "text/html": "<div>\n<style scoped>\n    .dataframe tbody tr th:only-of-type {\n        vertical-align: middle;\n    }\n\n    .dataframe tbody tr th {\n        vertical-align: top;\n    }\n\n    .dataframe thead th {\n        text-align: right;\n    }\n</style>\n<table border=\"1\" class=\"dataframe\">\n  <thead>\n    <tr style=\"text-align: right;\">\n      <th></th>\n      <th>User ID</th>\n      <th>Gender</th>\n      <th>Age</th>\n      <th>EstimatedSalary</th>\n      <th>Purchased</th>\n    </tr>\n  </thead>\n  <tbody>\n    <tr>\n      <th>348</th>\n      <td>15579212</td>\n      <td>Male</td>\n      <td>39</td>\n      <td>77000</td>\n      <td>0</td>\n    </tr>\n    <tr>\n      <th>257</th>\n      <td>15794493</td>\n      <td>Male</td>\n      <td>40</td>\n      <td>57000</td>\n      <td>0</td>\n    </tr>\n    <tr>\n      <th>297</th>\n      <td>15705298</td>\n      <td>Female</td>\n      <td>43</td>\n      <td>112000</td>\n      <td>1</td>\n    </tr>\n    <tr>\n      <th>38</th>\n      <td>15671766</td>\n      <td>Female</td>\n      <td>26</td>\n      <td>72000</td>\n      <td>0</td>\n    </tr>\n    <tr>\n      <th>87</th>\n      <td>15631912</td>\n      <td>Female</td>\n      <td>28</td>\n      <td>85000</td>\n      <td>0</td>\n    </tr>\n    <tr>\n      <th>268</th>\n      <td>15746203</td>\n      <td>Female</td>\n      <td>47</td>\n      <td>144000</td>\n      <td>1</td>\n    </tr>\n    <tr>\n      <th>376</th>\n      <td>15596984</td>\n      <td>Female</td>\n      <td>46</td>\n      <td>74000</td>\n      <td>0</td>\n    </tr>\n    <tr>\n      <th>169</th>\n      <td>15579781</td>\n      <td>Female</td>\n      <td>29</td>\n      <td>47000</td>\n      <td>0</td>\n    </tr>\n    <tr>\n      <th>64</th>\n      <td>15605000</td>\n      <td>Female</td>\n      <td>59</td>\n      <td>83000</td>\n      <td>0</td>\n    </tr>\n    <tr>\n      <th>91</th>\n      <td>15636428</td>\n      <td>Female</td>\n      <td>30</td>\n      <td>116000</td>\n      <td>0</td>\n    </tr>\n    <tr>\n      <th>355</th>\n      <td>15606472</td>\n      <td>Male</td>\n      <td>60</td>\n      <td>34000</td>\n      <td>1</td>\n    </tr>\n    <tr>\n      <th>158</th>\n      <td>15762605</td>\n      <td>Male</td>\n      <td>26</td>\n      <td>30000</td>\n      <td>0</td>\n    </tr>\n    <tr>\n      <th>185</th>\n      <td>15814816</td>\n      <td>Male</td>\n      <td>31</td>\n      <td>66000</td>\n      <td>0</td>\n    </tr>\n    <tr>\n      <th>247</th>\n      <td>15775590</td>\n      <td>Female</td>\n      <td>57</td>\n      <td>122000</td>\n      <td>1</td>\n    </tr>\n    <tr>\n      <th>102</th>\n      <td>15584545</td>\n      <td>Female</td>\n      <td>32</td>\n      <td>86000</td>\n      <td>0</td>\n    </tr>\n    <tr>\n      <th>14</th>\n      <td>15628972</td>\n      <td>Male</td>\n      <td>18</td>\n      <td>82000</td>\n      <td>0</td>\n    </tr>\n    <tr>\n      <th>394</th>\n      <td>15757632</td>\n      <td>Female</td>\n      <td>39</td>\n      <td>59000</td>\n      <td>0</td>\n    </tr>\n    <tr>\n      <th>177</th>\n      <td>15594577</td>\n      <td>Male</td>\n      <td>25</td>\n      <td>22000</td>\n      <td>0</td>\n    </tr>\n    <tr>\n      <th>329</th>\n      <td>15639576</td>\n      <td>Female</td>\n      <td>47</td>\n      <td>107000</td>\n      <td>1</td>\n    </tr>\n    <tr>\n      <th>204</th>\n      <td>15660866</td>\n      <td>Female</td>\n      <td>58</td>\n      <td>101000</td>\n      <td>1</td>\n    </tr>\n  </tbody>\n</table>\n</div>"
     },
     "execution_count": 6,
     "metadata": {},
     "output_type": "execute_result"
    }
   ],
   "source": [
    "p2 = pd.read_csv('dataset/Social_Network_Ads.csv')\n",
    "p2.sample(20)\n"
   ],
   "metadata": {
    "collapsed": false,
    "pycharm": {
     "name": "#%%\n"
    }
   }
  },
  {
   "cell_type": "code",
   "execution_count": 7,
   "outputs": [
    {
     "data": {
      "text/plain": "      User ID  Gender  Age  EstimatedSalary  Purchased\n380  15683758    Male   42            64000          0\n381  15670615    Male   48            33000          1\n382  15715622  Female   44           139000          1\n383  15707634    Male   49            28000          1\n384  15806901  Female   57            33000          1\n385  15775335    Male   56            60000          1\n386  15724150  Female   49            39000          1\n387  15627220    Male   39            71000          0\n388  15672330    Male   47            34000          1\n389  15668521  Female   48            35000          1\n390  15807837    Male   48            33000          1\n391  15592570    Male   47            23000          1\n392  15748589  Female   45            45000          1\n393  15635893    Male   60            42000          1\n394  15757632  Female   39            59000          0\n395  15691863  Female   46            41000          1\n396  15706071    Male   51            23000          1\n397  15654296  Female   50            20000          1\n398  15755018    Male   36            33000          0\n399  15594041  Female   49            36000          1",
      "text/html": "<div>\n<style scoped>\n    .dataframe tbody tr th:only-of-type {\n        vertical-align: middle;\n    }\n\n    .dataframe tbody tr th {\n        vertical-align: top;\n    }\n\n    .dataframe thead th {\n        text-align: right;\n    }\n</style>\n<table border=\"1\" class=\"dataframe\">\n  <thead>\n    <tr style=\"text-align: right;\">\n      <th></th>\n      <th>User ID</th>\n      <th>Gender</th>\n      <th>Age</th>\n      <th>EstimatedSalary</th>\n      <th>Purchased</th>\n    </tr>\n  </thead>\n  <tbody>\n    <tr>\n      <th>380</th>\n      <td>15683758</td>\n      <td>Male</td>\n      <td>42</td>\n      <td>64000</td>\n      <td>0</td>\n    </tr>\n    <tr>\n      <th>381</th>\n      <td>15670615</td>\n      <td>Male</td>\n      <td>48</td>\n      <td>33000</td>\n      <td>1</td>\n    </tr>\n    <tr>\n      <th>382</th>\n      <td>15715622</td>\n      <td>Female</td>\n      <td>44</td>\n      <td>139000</td>\n      <td>1</td>\n    </tr>\n    <tr>\n      <th>383</th>\n      <td>15707634</td>\n      <td>Male</td>\n      <td>49</td>\n      <td>28000</td>\n      <td>1</td>\n    </tr>\n    <tr>\n      <th>384</th>\n      <td>15806901</td>\n      <td>Female</td>\n      <td>57</td>\n      <td>33000</td>\n      <td>1</td>\n    </tr>\n    <tr>\n      <th>385</th>\n      <td>15775335</td>\n      <td>Male</td>\n      <td>56</td>\n      <td>60000</td>\n      <td>1</td>\n    </tr>\n    <tr>\n      <th>386</th>\n      <td>15724150</td>\n      <td>Female</td>\n      <td>49</td>\n      <td>39000</td>\n      <td>1</td>\n    </tr>\n    <tr>\n      <th>387</th>\n      <td>15627220</td>\n      <td>Male</td>\n      <td>39</td>\n      <td>71000</td>\n      <td>0</td>\n    </tr>\n    <tr>\n      <th>388</th>\n      <td>15672330</td>\n      <td>Male</td>\n      <td>47</td>\n      <td>34000</td>\n      <td>1</td>\n    </tr>\n    <tr>\n      <th>389</th>\n      <td>15668521</td>\n      <td>Female</td>\n      <td>48</td>\n      <td>35000</td>\n      <td>1</td>\n    </tr>\n    <tr>\n      <th>390</th>\n      <td>15807837</td>\n      <td>Male</td>\n      <td>48</td>\n      <td>33000</td>\n      <td>1</td>\n    </tr>\n    <tr>\n      <th>391</th>\n      <td>15592570</td>\n      <td>Male</td>\n      <td>47</td>\n      <td>23000</td>\n      <td>1</td>\n    </tr>\n    <tr>\n      <th>392</th>\n      <td>15748589</td>\n      <td>Female</td>\n      <td>45</td>\n      <td>45000</td>\n      <td>1</td>\n    </tr>\n    <tr>\n      <th>393</th>\n      <td>15635893</td>\n      <td>Male</td>\n      <td>60</td>\n      <td>42000</td>\n      <td>1</td>\n    </tr>\n    <tr>\n      <th>394</th>\n      <td>15757632</td>\n      <td>Female</td>\n      <td>39</td>\n      <td>59000</td>\n      <td>0</td>\n    </tr>\n    <tr>\n      <th>395</th>\n      <td>15691863</td>\n      <td>Female</td>\n      <td>46</td>\n      <td>41000</td>\n      <td>1</td>\n    </tr>\n    <tr>\n      <th>396</th>\n      <td>15706071</td>\n      <td>Male</td>\n      <td>51</td>\n      <td>23000</td>\n      <td>1</td>\n    </tr>\n    <tr>\n      <th>397</th>\n      <td>15654296</td>\n      <td>Female</td>\n      <td>50</td>\n      <td>20000</td>\n      <td>1</td>\n    </tr>\n    <tr>\n      <th>398</th>\n      <td>15755018</td>\n      <td>Male</td>\n      <td>36</td>\n      <td>33000</td>\n      <td>0</td>\n    </tr>\n    <tr>\n      <th>399</th>\n      <td>15594041</td>\n      <td>Female</td>\n      <td>49</td>\n      <td>36000</td>\n      <td>1</td>\n    </tr>\n  </tbody>\n</table>\n</div>"
     },
     "execution_count": 7,
     "metadata": {},
     "output_type": "execute_result"
    }
   ],
   "source": [
    "p3 = pd.read_csv('dataset/Social_Network_Ads.csv')\n",
    "p3.tail(20)"
   ],
   "metadata": {
    "collapsed": false,
    "pycharm": {
     "name": "#%%\n"
    }
   }
  },
  {
   "cell_type": "code",
   "execution_count": 10,
   "outputs": [
    {
     "name": "stdout",
     "output_type": "stream",
     "text": [
      "        Age  EstimatedSalary\n",
      "0 -1.779569        -1.488183\n",
      "1 -0.253270        -1.458854\n",
      "2 -1.111813        -0.784307\n",
      "3 -1.016419        -0.373714\n",
      "4 -1.779569         0.183521\n",
      "5 -1.016419        -0.344386\n",
      "6 -1.016419         0.418146\n",
      "7 -0.539451         2.353802\n",
      "8 -1.207207        -1.077589\n",
      "9 -0.253270        -0.139089\n"
     ]
    }
   ],
   "source": [
    "# p4-1\n",
    "df = pd.read_csv('dataset/Social_Network_Ads.csv')\n",
    "\n",
    "selected_columns = ['Age', 'EstimatedSalary']\n",
    "df_selected = df[selected_columns]\n",
    "\n",
    "mean = df_selected.mean()\n",
    "std = df_selected.std()\n",
    "\n",
    "df_scaled = (df_selected - mean) / std\n",
    "\n",
    "print(df_scaled.head(10))"
   ],
   "metadata": {
    "collapsed": false,
    "pycharm": {
     "name": "#%%\n"
    }
   }
  },
  {
   "cell_type": "code",
   "execution_count": 18,
   "outputs": [
    {
     "name": "stdout",
     "output_type": "stream",
     "text": [
      "        Age  EstimatedSalary\n",
      "0 -1.781797        -1.490046\n",
      "1 -0.253587        -1.460681\n",
      "2 -1.113206        -0.785290\n",
      "3 -1.017692        -0.374182\n",
      "4 -1.781797         0.183751\n",
      "5 -1.017692        -0.344817\n",
      "6 -1.017692         0.418669\n",
      "7 -0.540127         2.356750\n",
      "8 -1.208719        -1.078938\n",
      "9 -0.253587        -0.139263\n"
     ]
    }
   ],
   "source": [
    "# p4-2\n",
    "from sklearn.preprocessing import StandardScaler\n",
    "\n",
    "df = pd.read_csv('dataset/Social_Network_Ads.csv')\n",
    "\n",
    "selected_columns = ['Age', 'EstimatedSalary']\n",
    "df_selected = df[selected_columns]\n",
    "\n",
    "scaler = StandardScaler()\n",
    "df_scaled = scaler.fit_transform(df_selected)\n",
    "\n",
    "df_scaled = pd.DataFrame(df_scaled, columns=selected_columns)\n",
    "\n",
    "print(df_scaled.head(10))\n",
    "\n"
   ],
   "metadata": {
    "collapsed": false,
    "pycharm": {
     "name": "#%%\n"
    }
   }
  },
  {
   "cell_type": "code",
   "execution_count": 21,
   "outputs": [
    {
     "name": "stdout",
     "output_type": "stream",
     "text": [
      "      Age  EstimatedSalary\n",
      "0   0.000         0.000000\n",
      "1  10.000         0.076336\n",
      "2   4.375         1.832061\n",
      "3   5.000         2.900763\n",
      "4   0.000         4.351145\n",
      "5   5.000         2.977099\n",
      "6   5.000         4.961832\n",
      "7   8.125        10.000000\n",
      "8   3.750         1.068702\n",
      "9  10.000         3.511450\n"
     ]
    }
   ],
   "source": [
    "# p5\n",
    "from sklearn.preprocessing import MinMaxScaler\n",
    "from sklearn.preprocessing import StandardScaler\n",
    "\n",
    "df = pd.read_csv('dataset/Social_Network_Ads.csv')\n",
    "\n",
    "selected_columns = ['Age', 'EstimatedSalary']\n",
    "df_selected = df[selected_columns]\n",
    "\n",
    "scaler = StandardScaler()\n",
    "df_scaled = scaler.fit_transform(df_selected)\n",
    "\n",
    "df_scaled = pd.DataFrame(df_scaled, columns=selected_columns)\n",
    "\n",
    "\n",
    "scaler = MinMaxScaler(feature_range=(0, 10))\n",
    "df_std = df_scaled.head(10)\n",
    "df_scaled = scaler.fit_transform(df_std)\n",
    "\n",
    "df_scaled = pd.DataFrame(df_scaled, columns=df_std.columns)\n",
    "\n",
    "print(df_scaled.head(10))"
   ],
   "metadata": {
    "collapsed": false,
    "pycharm": {
     "name": "#%%\n"
    }
   }
  },
  {
   "cell_type": "code",
   "execution_count": null,
   "outputs": [],
   "source": [
    "# p6?\\\n",
    "\"\"\"\n",
    "کلاس RobustScaler از کتابخانه sklearn.preprocessing یک متد است که به داده‌ها مقیاسبندی انجام می‌دهد. این متد برای مقیاسبندی داده‌ها با استفاده از میانه و کوچکترین و بزرگترین مقادیر استفاده می‌شود. مزیت این روش نسبت به استفاده از میانگین و انحراف معیار این است که این روش از داده‌های پرت (outliers) تحت تاثیر قرار نمی‌گیرد.\n",
    "\"\"\"\n",
    "\n",
    "# import pandas as pd\n",
    "# from sklearn.preprocessing import RobustScaler\n",
    "#\n",
    "# df = pd.read_csv('dataset/Social_Network_Ads.csv')\n",
    "#\n",
    "# scaler = RobustScaler()\n",
    "#\n",
    "# df_scaled = scaler.fit_transform(df)\n",
    "#\n",
    "# df_scaled = pd.DataFrame(df_scaled, columns=df.columns)\n",
    "#\n",
    "# print(df_scaled.head(20))"
   ],
   "metadata": {
    "collapsed": false,
    "pycharm": {
     "name": "#%%\n",
     "is_executing": true
    }
   }
  },
  {
   "cell_type": "code",
   "execution_count": 27,
   "outputs": [
    {
     "data": {
      "text/plain": "    User ID  Gender  Age  EstimatedSalary  Purchased\n0  15624510       1   19            19000          0\n1  15810944       1   35            20000          0\n2  15668575       0   26            43000          0\n3  15603246       0   27            57000          0\n4  15804002       1   19            76000          0\n5  15728773       1   27            58000          0\n6  15598044       0   27            84000          0\n7  15694829       0   32           150000          1\n8  15600575       1   25            33000          0\n9  15727311       0   35            65000          0",
      "text/html": "<div>\n<style scoped>\n    .dataframe tbody tr th:only-of-type {\n        vertical-align: middle;\n    }\n\n    .dataframe tbody tr th {\n        vertical-align: top;\n    }\n\n    .dataframe thead th {\n        text-align: right;\n    }\n</style>\n<table border=\"1\" class=\"dataframe\">\n  <thead>\n    <tr style=\"text-align: right;\">\n      <th></th>\n      <th>User ID</th>\n      <th>Gender</th>\n      <th>Age</th>\n      <th>EstimatedSalary</th>\n      <th>Purchased</th>\n    </tr>\n  </thead>\n  <tbody>\n    <tr>\n      <th>0</th>\n      <td>15624510</td>\n      <td>1</td>\n      <td>19</td>\n      <td>19000</td>\n      <td>0</td>\n    </tr>\n    <tr>\n      <th>1</th>\n      <td>15810944</td>\n      <td>1</td>\n      <td>35</td>\n      <td>20000</td>\n      <td>0</td>\n    </tr>\n    <tr>\n      <th>2</th>\n      <td>15668575</td>\n      <td>0</td>\n      <td>26</td>\n      <td>43000</td>\n      <td>0</td>\n    </tr>\n    <tr>\n      <th>3</th>\n      <td>15603246</td>\n      <td>0</td>\n      <td>27</td>\n      <td>57000</td>\n      <td>0</td>\n    </tr>\n    <tr>\n      <th>4</th>\n      <td>15804002</td>\n      <td>1</td>\n      <td>19</td>\n      <td>76000</td>\n      <td>0</td>\n    </tr>\n    <tr>\n      <th>5</th>\n      <td>15728773</td>\n      <td>1</td>\n      <td>27</td>\n      <td>58000</td>\n      <td>0</td>\n    </tr>\n    <tr>\n      <th>6</th>\n      <td>15598044</td>\n      <td>0</td>\n      <td>27</td>\n      <td>84000</td>\n      <td>0</td>\n    </tr>\n    <tr>\n      <th>7</th>\n      <td>15694829</td>\n      <td>0</td>\n      <td>32</td>\n      <td>150000</td>\n      <td>1</td>\n    </tr>\n    <tr>\n      <th>8</th>\n      <td>15600575</td>\n      <td>1</td>\n      <td>25</td>\n      <td>33000</td>\n      <td>0</td>\n    </tr>\n    <tr>\n      <th>9</th>\n      <td>15727311</td>\n      <td>0</td>\n      <td>35</td>\n      <td>65000</td>\n      <td>0</td>\n    </tr>\n  </tbody>\n</table>\n</div>"
     },
     "execution_count": 27,
     "metadata": {},
     "output_type": "execute_result"
    }
   ],
   "source": [
    "# p7-1\n",
    "\"\"\"\n",
    "\n",
    "تبدیل hot-one یا One-Hot Encoding یک روش مبتنی بر دسته‌بندی است که برای تبدیل متغیرهای کیفی به متغیرهای کمی استفاده می‌شود. هدف این تبدیل این است که متغیرهای کیفی یا دسته‌ای را به متغیرهای دودویی یا دسته‌ای با مقادیر عددی تبدیل کند تا بتوانیم آن‌ها را به عنوان ورودی برای مدل‌های یادگیری ماشین استفاده کنیم.\n",
    "\n",
    "\"\"\"\n",
    "\n",
    "\n",
    "from sklearn.preprocessing import LabelEncoder\n",
    "p7 = pd.read_csv('dataset/Social_Network_Ads.csv')\n",
    "\n",
    "le = LabelEncoder()\n",
    "p7['Gender'] = le.fit_transform(df['Gender'])\n",
    "p7.head(10)"
   ],
   "metadata": {
    "collapsed": false,
    "pycharm": {
     "name": "#%%\n"
    }
   }
  },
  {
   "cell_type": "code",
   "execution_count": 33,
   "outputs": [
    {
     "data": {
      "text/plain": "    User ID  Gender  Age  EstimatedSalary  Purchased\n0  15624510       1   19            19000          0\n1  15810944       1   35            20000          0\n2  15668575       0   26            43000          0\n3  15603246       0   27            57000          0\n4  15804002       1   19            76000          0\n5  15728773       1   27            58000          0\n6  15598044       0   27            84000          0\n7  15694829       0   32           150000          1\n8  15600575       1   25            33000          0\n9  15727311       0   35            65000          0",
      "text/html": "<div>\n<style scoped>\n    .dataframe tbody tr th:only-of-type {\n        vertical-align: middle;\n    }\n\n    .dataframe tbody tr th {\n        vertical-align: top;\n    }\n\n    .dataframe thead th {\n        text-align: right;\n    }\n</style>\n<table border=\"1\" class=\"dataframe\">\n  <thead>\n    <tr style=\"text-align: right;\">\n      <th></th>\n      <th>User ID</th>\n      <th>Gender</th>\n      <th>Age</th>\n      <th>EstimatedSalary</th>\n      <th>Purchased</th>\n    </tr>\n  </thead>\n  <tbody>\n    <tr>\n      <th>0</th>\n      <td>15624510</td>\n      <td>1</td>\n      <td>19</td>\n      <td>19000</td>\n      <td>0</td>\n    </tr>\n    <tr>\n      <th>1</th>\n      <td>15810944</td>\n      <td>1</td>\n      <td>35</td>\n      <td>20000</td>\n      <td>0</td>\n    </tr>\n    <tr>\n      <th>2</th>\n      <td>15668575</td>\n      <td>0</td>\n      <td>26</td>\n      <td>43000</td>\n      <td>0</td>\n    </tr>\n    <tr>\n      <th>3</th>\n      <td>15603246</td>\n      <td>0</td>\n      <td>27</td>\n      <td>57000</td>\n      <td>0</td>\n    </tr>\n    <tr>\n      <th>4</th>\n      <td>15804002</td>\n      <td>1</td>\n      <td>19</td>\n      <td>76000</td>\n      <td>0</td>\n    </tr>\n    <tr>\n      <th>5</th>\n      <td>15728773</td>\n      <td>1</td>\n      <td>27</td>\n      <td>58000</td>\n      <td>0</td>\n    </tr>\n    <tr>\n      <th>6</th>\n      <td>15598044</td>\n      <td>0</td>\n      <td>27</td>\n      <td>84000</td>\n      <td>0</td>\n    </tr>\n    <tr>\n      <th>7</th>\n      <td>15694829</td>\n      <td>0</td>\n      <td>32</td>\n      <td>150000</td>\n      <td>1</td>\n    </tr>\n    <tr>\n      <th>8</th>\n      <td>15600575</td>\n      <td>1</td>\n      <td>25</td>\n      <td>33000</td>\n      <td>0</td>\n    </tr>\n    <tr>\n      <th>9</th>\n      <td>15727311</td>\n      <td>0</td>\n      <td>35</td>\n      <td>65000</td>\n      <td>0</td>\n    </tr>\n  </tbody>\n</table>\n</div>"
     },
     "execution_count": 33,
     "metadata": {},
     "output_type": "execute_result"
    }
   ],
   "source": [
    "# p7-2\n",
    "from sklearn.preprocessing import LabelEncoder\n",
    "p7 = pd.read_csv('dataset/Social_Network_Ads.csv')\n",
    "\n",
    "\n",
    "le = LabelEncoder()\n",
    "p7['Gender'] = le.fit_transform(df['Gender'])\n",
    "p7['Gender'] = le.inverse_transform(df['Gender'])\n",
    "p7.head(10)\n",
    "\n"
   ],
   "metadata": {
    "collapsed": false,
    "pycharm": {
     "name": "#%%\n"
    }
   }
  },
  {
   "cell_type": "code",
   "execution_count": null,
   "outputs": [],
   "source": [],
   "metadata": {
    "collapsed": false,
    "pycharm": {
     "name": "#%%\n"
    }
   }
  },
  {
   "cell_type": "code",
   "execution_count": null,
   "outputs": [],
   "source": [],
   "metadata": {
    "collapsed": false,
    "pycharm": {
     "name": "#%%\n"
    }
   }
  }
 ],
 "metadata": {
  "kernelspec": {
   "display_name": "Python 3",
   "language": "python",
   "name": "python3"
  },
  "language_info": {
   "codemirror_mode": {
    "name": "ipython",
    "version": 2
   },
   "file_extension": ".py",
   "mimetype": "text/x-python",
   "name": "python",
   "nbconvert_exporter": "python",
   "pygments_lexer": "ipython2",
   "version": "2.7.6"
  }
 },
 "nbformat": 4,
 "nbformat_minor": 0
}